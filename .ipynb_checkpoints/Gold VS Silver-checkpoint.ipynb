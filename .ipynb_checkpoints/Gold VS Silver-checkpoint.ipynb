{
 "cells": [
  {
   "cell_type": "code",
   "execution_count": 1,
   "id": "90440282",
   "metadata": {},
   "outputs": [],
   "source": [
    "import pandas as pd\n",
    "import numpy as np"
   ]
  },
  {
   "cell_type": "code",
   "execution_count": 2,
   "id": "81593b51",
   "metadata": {},
   "outputs": [],
   "source": [
    "import matplotlib.pylab as plt\n",
    "import seaborn as sns"
   ]
  },
  {
   "cell_type": "code",
   "execution_count": 16,
   "id": "f8aad20d",
   "metadata": {},
   "outputs": [],
   "source": [
    "df = pd.read_csv('gold_price.csv')\n"
   ]
  },
  {
   "cell_type": "code",
   "execution_count": 19,
   "id": "2b99282a",
   "metadata": {},
   "outputs": [],
   "source": [
    "df2 = pd.read_csv(\"silver_price.csv\")"
   ]
  },
  {
   "cell_type": "code",
   "execution_count": 114,
   "id": "f27f92ed",
   "metadata": {},
   "outputs": [
    {
     "name": "stdout",
     "output_type": "stream",
     "text": [
      "             date    price\n",
      "0      1968-01-02      NaN\n",
      "1      1968-01-03      NaN\n",
      "2      1968-01-04      NaN\n",
      "3      1968-01-05      NaN\n",
      "4      1968-01-08      NaN\n",
      "...           ...      ...\n",
      "13456  2021-03-30  1683.95\n",
      "13457  2021-03-31  1691.05\n",
      "13458  2021-04-01  1726.05\n",
      "13459  2021-04-06  1744.65\n",
      "13460  2021-04-07  1738.05\n",
      "\n",
      "[13461 rows x 2 columns]\n"
     ]
    }
   ],
   "source": [
    "print(df)"
   ]
  },
  {
   "cell_type": "code",
   "execution_count": 115,
   "id": "c79daf92",
   "metadata": {},
   "outputs": [
    {
     "name": "stdout",
     "output_type": "stream",
     "text": [
      "             date   price\n",
      "0      1968-01-02   2.173\n",
      "1      1968-01-03   2.225\n",
      "2      1968-01-04   2.171\n",
      "3      1968-01-05   2.157\n",
      "4      1968-01-08   2.163\n",
      "...           ...     ...\n",
      "13470  2021-03-30  24.340\n",
      "13471  2021-03-31  24.000\n",
      "13472  2021-04-01  24.315\n",
      "13473  2021-04-06  25.040\n",
      "13474  2021-04-07  24.985\n",
      "\n",
      "[13475 rows x 2 columns]\n"
     ]
    }
   ],
   "source": [
    "print(df2)"
   ]
  },
  {
   "cell_type": "code",
   "execution_count": null,
   "id": "c5b67b7b",
   "metadata": {},
   "outputs": [],
   "source": []
  }
 ],
 "metadata": {
  "kernelspec": {
   "display_name": "Python 3 (ipykernel)",
   "language": "python",
   "name": "python3"
  },
  "language_info": {
   "codemirror_mode": {
    "name": "ipython",
    "version": 3
   },
   "file_extension": ".py",
   "mimetype": "text/x-python",
   "name": "python",
   "nbconvert_exporter": "python",
   "pygments_lexer": "ipython3",
   "version": "3.9.13"
  }
 },
 "nbformat": 4,
 "nbformat_minor": 5
}
