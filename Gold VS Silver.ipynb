{
 "cells": [
  {
   "cell_type": "markdown",
   "id": "0bd83e48",
   "metadata": {},
   "source": [
    "# Introduction\n",
    "\n",
    "This project uses data from datasets containing gold and silver prices to display the fluctuations throughout the years, as well as a section that shows the prices changes for one month. No fancy comparisons, only displays data to study the correlation between gold and silver prices.\n",
    "\n",
    "The dataset was obtained from www.kaggle.com. (https://www.kaggle.com/datasets/lbronchal/gold-and-silver-prices-dataset?resource=download&select=silver_price.csv)\n",
    "\n",
    "www.kaggle.com per LBMA Precious Metal Prices\n",
    "\n",
    "Prices are per ounce in USD.\n",
    "\n",
    "It contains 2 files\"\n",
    "gold_price.csv,\n",
    "silver_price.csv\n",
    "\n"
   ]
  },
  {
   "cell_type": "markdown",
   "id": "094750fe",
   "metadata": {},
   "source": [
    "# 1 Import Libraries\n"
   ]
  },
  {
   "cell_type": "code",
   "execution_count": 1,
   "id": "81593b51",
   "metadata": {},
   "outputs": [],
   "source": [
    "import pandas as pd\n",
    "import numpy as np\n",
    "import matplotlib.pyplot as plt\n"
   ]
  },
  {
   "cell_type": "markdown",
   "id": "0ac1972a",
   "metadata": {},
   "source": [
    "# 2. Import CSV Files/DataSets"
   ]
  },
  {
   "cell_type": "code",
   "execution_count": 2,
   "id": "f8aad20d",
   "metadata": {},
   "outputs": [],
   "source": [
    "df = pd.read_csv('gold_price.csv')\n",
    "df2 = pd.read_csv('silver_price.csv')"
   ]
  },
  {
   "cell_type": "code",
   "execution_count": 3,
   "id": "cfb79d8d",
   "metadata": {},
   "outputs": [
    {
     "data": {
      "text/plain": [
       "(             date    price\n",
       " 0      1968-01-02      NaN\n",
       " 1      1968-01-03      NaN\n",
       " 2      1968-01-04      NaN\n",
       " 3      1968-01-05      NaN\n",
       " 4      1968-01-08      NaN\n",
       " ...           ...      ...\n",
       " 13456  2021-03-30  1683.95\n",
       " 13457  2021-03-31  1691.05\n",
       " 13458  2021-04-01  1726.05\n",
       " 13459  2021-04-06  1744.65\n",
       " 13460  2021-04-07  1738.05\n",
       " \n",
       " [13461 rows x 2 columns],\n",
       "              date   price\n",
       " 0      1968-01-02   2.173\n",
       " 1      1968-01-03   2.225\n",
       " 2      1968-01-04   2.171\n",
       " 3      1968-01-05   2.157\n",
       " 4      1968-01-08   2.163\n",
       " ...           ...     ...\n",
       " 13470  2021-03-30  24.340\n",
       " 13471  2021-03-31  24.000\n",
       " 13472  2021-04-01  24.315\n",
       " 13473  2021-04-06  25.040\n",
       " 13474  2021-04-07  24.985\n",
       " \n",
       " [13475 rows x 2 columns])"
      ]
     },
     "execution_count": 3,
     "metadata": {},
     "output_type": "execute_result"
    }
   ],
   "source": [
    "#print datasets to check data\n",
    "df, df2"
   ]
  },
  {
   "cell_type": "code",
   "execution_count": 4,
   "id": "0e35b9f7",
   "metadata": {},
   "outputs": [
    {
     "name": "stdout",
     "output_type": "stream",
     "text": [
      "<class 'pandas.core.frame.DataFrame'>\n",
      "RangeIndex: 13461 entries, 0 to 13460\n",
      "Data columns (total 2 columns):\n",
      " #   Column  Non-Null Count  Dtype  \n",
      "---  ------  --------------  -----  \n",
      " 0   date    13461 non-null  object \n",
      " 1   price   13320 non-null  float64\n",
      "dtypes: float64(1), object(1)\n",
      "memory usage: 210.5+ KB\n"
     ]
    }
   ],
   "source": [
    "df.info()"
   ]
  },
  {
   "cell_type": "markdown",
   "id": "966a4d6c",
   "metadata": {},
   "source": [
    "# Data cleaning, Remove null values\n"
   ]
  },
  {
   "cell_type": "code",
   "execution_count": 5,
   "id": "e260080d",
   "metadata": {},
   "outputs": [
    {
     "data": {
      "text/plain": [
       "date       0\n",
       "price    141\n",
       "dtype: int64"
      ]
     },
     "execution_count": 5,
     "metadata": {},
     "output_type": "execute_result"
    }
   ],
   "source": [
    "# Check for number of null values\n",
    "df.isnull().sum()"
   ]
  },
  {
   "cell_type": "code",
   "execution_count": 6,
   "id": "916091f0",
   "metadata": {},
   "outputs": [
    {
     "data": {
      "text/plain": [
       "date      0\n",
       "price    21\n",
       "dtype: int64"
      ]
     },
     "execution_count": 6,
     "metadata": {},
     "output_type": "execute_result"
    }
   ],
   "source": [
    "df2.isnull().sum()"
   ]
  },
  {
   "cell_type": "code",
   "execution_count": 7,
   "id": "469f6ecf",
   "metadata": {},
   "outputs": [
    {
     "data": {
      "text/html": [
       "<div>\n",
       "<style scoped>\n",
       "    .dataframe tbody tr th:only-of-type {\n",
       "        vertical-align: middle;\n",
       "    }\n",
       "\n",
       "    .dataframe tbody tr th {\n",
       "        vertical-align: top;\n",
       "    }\n",
       "\n",
       "    .dataframe thead th {\n",
       "        text-align: right;\n",
       "    }\n",
       "</style>\n",
       "<table border=\"1\" class=\"dataframe\">\n",
       "  <thead>\n",
       "    <tr style=\"text-align: right;\">\n",
       "      <th></th>\n",
       "      <th>date</th>\n",
       "      <th>price</th>\n",
       "    </tr>\n",
       "  </thead>\n",
       "  <tbody>\n",
       "    <tr>\n",
       "      <th>63</th>\n",
       "      <td>1968-04-01</td>\n",
       "      <td>37.70</td>\n",
       "    </tr>\n",
       "    <tr>\n",
       "      <th>64</th>\n",
       "      <td>1968-04-02</td>\n",
       "      <td>37.30</td>\n",
       "    </tr>\n",
       "    <tr>\n",
       "      <th>65</th>\n",
       "      <td>1968-04-03</td>\n",
       "      <td>37.60</td>\n",
       "    </tr>\n",
       "    <tr>\n",
       "      <th>66</th>\n",
       "      <td>1968-04-04</td>\n",
       "      <td>36.95</td>\n",
       "    </tr>\n",
       "    <tr>\n",
       "      <th>67</th>\n",
       "      <td>1968-04-05</td>\n",
       "      <td>37.00</td>\n",
       "    </tr>\n",
       "    <tr>\n",
       "      <th>...</th>\n",
       "      <td>...</td>\n",
       "      <td>...</td>\n",
       "    </tr>\n",
       "    <tr>\n",
       "      <th>13456</th>\n",
       "      <td>2021-03-30</td>\n",
       "      <td>1683.95</td>\n",
       "    </tr>\n",
       "    <tr>\n",
       "      <th>13457</th>\n",
       "      <td>2021-03-31</td>\n",
       "      <td>1691.05</td>\n",
       "    </tr>\n",
       "    <tr>\n",
       "      <th>13458</th>\n",
       "      <td>2021-04-01</td>\n",
       "      <td>1726.05</td>\n",
       "    </tr>\n",
       "    <tr>\n",
       "      <th>13459</th>\n",
       "      <td>2021-04-06</td>\n",
       "      <td>1744.65</td>\n",
       "    </tr>\n",
       "    <tr>\n",
       "      <th>13460</th>\n",
       "      <td>2021-04-07</td>\n",
       "      <td>1738.05</td>\n",
       "    </tr>\n",
       "  </tbody>\n",
       "</table>\n",
       "<p>13320 rows × 2 columns</p>\n",
       "</div>"
      ],
      "text/plain": [
       "             date    price\n",
       "63     1968-04-01    37.70\n",
       "64     1968-04-02    37.30\n",
       "65     1968-04-03    37.60\n",
       "66     1968-04-04    36.95\n",
       "67     1968-04-05    37.00\n",
       "...           ...      ...\n",
       "13456  2021-03-30  1683.95\n",
       "13457  2021-03-31  1691.05\n",
       "13458  2021-04-01  1726.05\n",
       "13459  2021-04-06  1744.65\n",
       "13460  2021-04-07  1738.05\n",
       "\n",
       "[13320 rows x 2 columns]"
      ]
     },
     "execution_count": 7,
     "metadata": {},
     "output_type": "execute_result"
    }
   ],
   "source": [
    "# Removing null values\n",
    "df.dropna(axis = 0)"
   ]
  },
  {
   "cell_type": "code",
   "execution_count": 8,
   "id": "28c37bad",
   "metadata": {},
   "outputs": [
    {
     "data": {
      "text/html": [
       "<div>\n",
       "<style scoped>\n",
       "    .dataframe tbody tr th:only-of-type {\n",
       "        vertical-align: middle;\n",
       "    }\n",
       "\n",
       "    .dataframe tbody tr th {\n",
       "        vertical-align: top;\n",
       "    }\n",
       "\n",
       "    .dataframe thead th {\n",
       "        text-align: right;\n",
       "    }\n",
       "</style>\n",
       "<table border=\"1\" class=\"dataframe\">\n",
       "  <thead>\n",
       "    <tr style=\"text-align: right;\">\n",
       "      <th></th>\n",
       "      <th>date</th>\n",
       "      <th>price</th>\n",
       "    </tr>\n",
       "  </thead>\n",
       "  <tbody>\n",
       "    <tr>\n",
       "      <th>0</th>\n",
       "      <td>1968-01-02</td>\n",
       "      <td>2.173</td>\n",
       "    </tr>\n",
       "    <tr>\n",
       "      <th>1</th>\n",
       "      <td>1968-01-03</td>\n",
       "      <td>2.225</td>\n",
       "    </tr>\n",
       "    <tr>\n",
       "      <th>2</th>\n",
       "      <td>1968-01-04</td>\n",
       "      <td>2.171</td>\n",
       "    </tr>\n",
       "    <tr>\n",
       "      <th>3</th>\n",
       "      <td>1968-01-05</td>\n",
       "      <td>2.157</td>\n",
       "    </tr>\n",
       "    <tr>\n",
       "      <th>4</th>\n",
       "      <td>1968-01-08</td>\n",
       "      <td>2.163</td>\n",
       "    </tr>\n",
       "    <tr>\n",
       "      <th>...</th>\n",
       "      <td>...</td>\n",
       "      <td>...</td>\n",
       "    </tr>\n",
       "    <tr>\n",
       "      <th>13470</th>\n",
       "      <td>2021-03-30</td>\n",
       "      <td>24.340</td>\n",
       "    </tr>\n",
       "    <tr>\n",
       "      <th>13471</th>\n",
       "      <td>2021-03-31</td>\n",
       "      <td>24.000</td>\n",
       "    </tr>\n",
       "    <tr>\n",
       "      <th>13472</th>\n",
       "      <td>2021-04-01</td>\n",
       "      <td>24.315</td>\n",
       "    </tr>\n",
       "    <tr>\n",
       "      <th>13473</th>\n",
       "      <td>2021-04-06</td>\n",
       "      <td>25.040</td>\n",
       "    </tr>\n",
       "    <tr>\n",
       "      <th>13474</th>\n",
       "      <td>2021-04-07</td>\n",
       "      <td>24.985</td>\n",
       "    </tr>\n",
       "  </tbody>\n",
       "</table>\n",
       "<p>13454 rows × 2 columns</p>\n",
       "</div>"
      ],
      "text/plain": [
       "             date   price\n",
       "0      1968-01-02   2.173\n",
       "1      1968-01-03   2.225\n",
       "2      1968-01-04   2.171\n",
       "3      1968-01-05   2.157\n",
       "4      1968-01-08   2.163\n",
       "...           ...     ...\n",
       "13470  2021-03-30  24.340\n",
       "13471  2021-03-31  24.000\n",
       "13472  2021-04-01  24.315\n",
       "13473  2021-04-06  25.040\n",
       "13474  2021-04-07  24.985\n",
       "\n",
       "[13454 rows x 2 columns]"
      ]
     },
     "execution_count": 8,
     "metadata": {},
     "output_type": "execute_result"
    }
   ],
   "source": [
    "# Removing null values\n",
    "df2.dropna(axis = 0)"
   ]
  },
  {
   "cell_type": "code",
   "execution_count": 9,
   "id": "21ee7efc",
   "metadata": {},
   "outputs": [
    {
     "name": "stdout",
     "output_type": "stream",
     "text": [
      "<class 'pandas.core.frame.DataFrame'>\n",
      "RangeIndex: 13461 entries, 0 to 13460\n",
      "Data columns (total 2 columns):\n",
      " #   Column  Non-Null Count  Dtype         \n",
      "---  ------  --------------  -----         \n",
      " 0   date    13461 non-null  datetime64[ns]\n",
      " 1   price   13320 non-null  float64       \n",
      "dtypes: datetime64[ns](1), float64(1)\n",
      "memory usage: 210.5 KB\n"
     ]
    }
   ],
   "source": [
    "# Changing to datetime to use specific dates\n",
    "df.date = pd.to_datetime(df.date)\n",
    "df.info()"
   ]
  },
  {
   "cell_type": "code",
   "execution_count": 10,
   "id": "872ee40a",
   "metadata": {},
   "outputs": [
    {
     "name": "stdout",
     "output_type": "stream",
     "text": [
      "<class 'pandas.core.frame.DataFrame'>\n",
      "RangeIndex: 13475 entries, 0 to 13474\n",
      "Data columns (total 2 columns):\n",
      " #   Column  Non-Null Count  Dtype  \n",
      "---  ------  --------------  -----  \n",
      " 0   date    13475 non-null  object \n",
      " 1   price   13454 non-null  float64\n",
      "dtypes: float64(1), object(1)\n",
      "memory usage: 210.7+ KB\n"
     ]
    }
   ],
   "source": [
    "df2.info()"
   ]
  },
  {
   "cell_type": "code",
   "execution_count": 11,
   "id": "e424fbf8",
   "metadata": {},
   "outputs": [
    {
     "name": "stdout",
     "output_type": "stream",
     "text": [
      "<class 'pandas.core.frame.DataFrame'>\n",
      "RangeIndex: 13475 entries, 0 to 13474\n",
      "Data columns (total 2 columns):\n",
      " #   Column  Non-Null Count  Dtype         \n",
      "---  ------  --------------  -----         \n",
      " 0   date    13475 non-null  datetime64[ns]\n",
      " 1   price   13454 non-null  float64       \n",
      "dtypes: datetime64[ns](1), float64(1)\n",
      "memory usage: 210.7 KB\n"
     ]
    }
   ],
   "source": [
    "# Changing to datetime to use specific dates\n",
    "df2.date = pd.to_datetime(df2.date)\n",
    "df2.info()"
   ]
  },
  {
   "cell_type": "markdown",
   "id": "d77e59b4",
   "metadata": {},
   "source": [
    "# Choose date to visualize between indexes"
   ]
  },
  {
   "cell_type": "code",
   "execution_count": 12,
   "id": "b43fe3b4",
   "metadata": {},
   "outputs": [],
   "source": [
    "df = df.set_index('date')\n",
    "df2 = df2.set_index('date')"
   ]
  },
  {
   "cell_type": "code",
   "execution_count": 13,
   "id": "6f6b1b49",
   "metadata": {},
   "outputs": [
    {
     "data": {
      "text/plain": [
       "(              price\n",
       " date               \n",
       " 1968-01-02      NaN\n",
       " 1968-01-03      NaN\n",
       " 1968-01-04      NaN\n",
       " 1968-01-05      NaN\n",
       " 1968-01-08      NaN\n",
       " ...             ...\n",
       " 2021-03-30  1683.95\n",
       " 2021-03-31  1691.05\n",
       " 2021-04-01  1726.05\n",
       " 2021-04-06  1744.65\n",
       " 2021-04-07  1738.05\n",
       " \n",
       " [13461 rows x 1 columns],\n",
       "              price\n",
       " date              \n",
       " 1968-01-02   2.173\n",
       " 1968-01-03   2.225\n",
       " 1968-01-04   2.171\n",
       " 1968-01-05   2.157\n",
       " 1968-01-08   2.163\n",
       " ...            ...\n",
       " 2021-03-30  24.340\n",
       " 2021-03-31  24.000\n",
       " 2021-04-01  24.315\n",
       " 2021-04-06  25.040\n",
       " 2021-04-07  24.985\n",
       " \n",
       " [13475 rows x 1 columns])"
      ]
     },
     "execution_count": 13,
     "metadata": {},
     "output_type": "execute_result"
    }
   ],
   "source": [
    "df, df2"
   ]
  },
  {
   "cell_type": "code",
   "execution_count": 14,
   "id": "b51b95eb",
   "metadata": {},
   "outputs": [],
   "source": [
    "# Creating datasets for specific years\n",
    "gold = df.loc['2000-01-04':'2021-04-07']"
   ]
  },
  {
   "cell_type": "code",
   "execution_count": 15,
   "id": "500a8102",
   "metadata": {},
   "outputs": [
    {
     "data": {
      "text/html": [
       "<div>\n",
       "<style scoped>\n",
       "    .dataframe tbody tr th:only-of-type {\n",
       "        vertical-align: middle;\n",
       "    }\n",
       "\n",
       "    .dataframe tbody tr th {\n",
       "        vertical-align: top;\n",
       "    }\n",
       "\n",
       "    .dataframe thead th {\n",
       "        text-align: right;\n",
       "    }\n",
       "</style>\n",
       "<table border=\"1\" class=\"dataframe\">\n",
       "  <thead>\n",
       "    <tr style=\"text-align: right;\">\n",
       "      <th></th>\n",
       "      <th>price</th>\n",
       "    </tr>\n",
       "    <tr>\n",
       "      <th>date</th>\n",
       "      <th></th>\n",
       "    </tr>\n",
       "  </thead>\n",
       "  <tbody>\n",
       "    <tr>\n",
       "      <th>2000-01-04</th>\n",
       "      <td>281.50</td>\n",
       "    </tr>\n",
       "    <tr>\n",
       "      <th>2000-01-05</th>\n",
       "      <td>280.45</td>\n",
       "    </tr>\n",
       "    <tr>\n",
       "      <th>2000-01-06</th>\n",
       "      <td>279.40</td>\n",
       "    </tr>\n",
       "    <tr>\n",
       "      <th>2000-01-07</th>\n",
       "      <td>282.10</td>\n",
       "    </tr>\n",
       "    <tr>\n",
       "      <th>2000-01-10</th>\n",
       "      <td>281.60</td>\n",
       "    </tr>\n",
       "    <tr>\n",
       "      <th>...</th>\n",
       "      <td>...</td>\n",
       "    </tr>\n",
       "    <tr>\n",
       "      <th>2021-03-30</th>\n",
       "      <td>1683.95</td>\n",
       "    </tr>\n",
       "    <tr>\n",
       "      <th>2021-03-31</th>\n",
       "      <td>1691.05</td>\n",
       "    </tr>\n",
       "    <tr>\n",
       "      <th>2021-04-01</th>\n",
       "      <td>1726.05</td>\n",
       "    </tr>\n",
       "    <tr>\n",
       "      <th>2021-04-06</th>\n",
       "      <td>1744.65</td>\n",
       "    </tr>\n",
       "    <tr>\n",
       "      <th>2021-04-07</th>\n",
       "      <td>1738.05</td>\n",
       "    </tr>\n",
       "  </tbody>\n",
       "</table>\n",
       "<p>5360 rows × 1 columns</p>\n",
       "</div>"
      ],
      "text/plain": [
       "              price\n",
       "date               \n",
       "2000-01-04   281.50\n",
       "2000-01-05   280.45\n",
       "2000-01-06   279.40\n",
       "2000-01-07   282.10\n",
       "2000-01-10   281.60\n",
       "...             ...\n",
       "2021-03-30  1683.95\n",
       "2021-03-31  1691.05\n",
       "2021-04-01  1726.05\n",
       "2021-04-06  1744.65\n",
       "2021-04-07  1738.05\n",
       "\n",
       "[5360 rows x 1 columns]"
      ]
     },
     "execution_count": 15,
     "metadata": {},
     "output_type": "execute_result"
    }
   ],
   "source": [
    "gold\n",
    "\n"
   ]
  },
  {
   "cell_type": "code",
   "execution_count": 16,
   "id": "113985bc",
   "metadata": {},
   "outputs": [],
   "source": [
    "# Creating datasets for specific years\n",
    "silver = df2.loc['2000-01-04':'2021-04-07']"
   ]
  },
  {
   "cell_type": "code",
   "execution_count": 17,
   "id": "7476eba0",
   "metadata": {},
   "outputs": [
    {
     "data": {
      "text/html": [
       "<div>\n",
       "<style scoped>\n",
       "    .dataframe tbody tr th:only-of-type {\n",
       "        vertical-align: middle;\n",
       "    }\n",
       "\n",
       "    .dataframe tbody tr th {\n",
       "        vertical-align: top;\n",
       "    }\n",
       "\n",
       "    .dataframe thead th {\n",
       "        text-align: right;\n",
       "    }\n",
       "</style>\n",
       "<table border=\"1\" class=\"dataframe\">\n",
       "  <thead>\n",
       "    <tr style=\"text-align: right;\">\n",
       "      <th></th>\n",
       "      <th>price</th>\n",
       "    </tr>\n",
       "    <tr>\n",
       "      <th>date</th>\n",
       "      <th></th>\n",
       "    </tr>\n",
       "  </thead>\n",
       "  <tbody>\n",
       "    <tr>\n",
       "      <th>2000-01-04</th>\n",
       "      <td>5.303</td>\n",
       "    </tr>\n",
       "    <tr>\n",
       "      <th>2000-01-05</th>\n",
       "      <td>5.285</td>\n",
       "    </tr>\n",
       "    <tr>\n",
       "      <th>2000-01-06</th>\n",
       "      <td>5.140</td>\n",
       "    </tr>\n",
       "    <tr>\n",
       "      <th>2000-01-07</th>\n",
       "      <td>5.135</td>\n",
       "    </tr>\n",
       "    <tr>\n",
       "      <th>2000-01-10</th>\n",
       "      <td>5.145</td>\n",
       "    </tr>\n",
       "    <tr>\n",
       "      <th>...</th>\n",
       "      <td>...</td>\n",
       "    </tr>\n",
       "    <tr>\n",
       "      <th>2021-03-30</th>\n",
       "      <td>24.340</td>\n",
       "    </tr>\n",
       "    <tr>\n",
       "      <th>2021-03-31</th>\n",
       "      <td>24.000</td>\n",
       "    </tr>\n",
       "    <tr>\n",
       "      <th>2021-04-01</th>\n",
       "      <td>24.315</td>\n",
       "    </tr>\n",
       "    <tr>\n",
       "      <th>2021-04-06</th>\n",
       "      <td>25.040</td>\n",
       "    </tr>\n",
       "    <tr>\n",
       "      <th>2021-04-07</th>\n",
       "      <td>24.985</td>\n",
       "    </tr>\n",
       "  </tbody>\n",
       "</table>\n",
       "<p>5374 rows × 1 columns</p>\n",
       "</div>"
      ],
      "text/plain": [
       "             price\n",
       "date              \n",
       "2000-01-04   5.303\n",
       "2000-01-05   5.285\n",
       "2000-01-06   5.140\n",
       "2000-01-07   5.135\n",
       "2000-01-10   5.145\n",
       "...            ...\n",
       "2021-03-30  24.340\n",
       "2021-03-31  24.000\n",
       "2021-04-01  24.315\n",
       "2021-04-06  25.040\n",
       "2021-04-07  24.985\n",
       "\n",
       "[5374 rows x 1 columns]"
      ]
     },
     "execution_count": 17,
     "metadata": {},
     "output_type": "execute_result"
    }
   ],
   "source": [
    "silver"
   ]
  },
  {
   "cell_type": "markdown",
   "id": "c65e33bc",
   "metadata": {},
   "source": [
    "# Plotting data from whole dataset\n"
   ]
  },
  {
   "cell_type": "code",
   "execution_count": 42,
   "id": "64a41ae1",
   "metadata": {},
   "outputs": [
    {
     "data": {
      "text/plain": [
       "<matplotlib.legend.Legend at 0x1a22c95adf0>"
      ]
     },
     "execution_count": 42,
     "metadata": {},
     "output_type": "execute_result"
    },
    {
     "data": {
      "image/png": "[encoded data removed]",
      "text/plain": [
       "<Figure size 640x480 with 1 Axes>"
      ]
     },
     "metadata": {},
     "output_type": "display_data"
    }
   ],
   "source": [
    "plt.plot(df, 'gold')\n",
    "plt.plot(df2, 'silver')\n",
    "plt.title(\"Gold and Silver Prices (USD)\", fontdict={'fontname': 'Comic Sans Ms'})\n",
    "plt.xlabel('Years')\n",
    "plt.ylabel('Price (per ounce)')\n",
    "plt.legend([\"Gold Prices\", \"Silver Prices\"])\n"
   ]
  },
  {
   "cell_type": "markdown",
   "id": "53f88ea5",
   "metadata": {},
   "source": [
    "# Plotting values betweeen indexes"
   ]
  },
  {
   "cell_type": "code",
   "execution_count": 43,
   "id": "9ea42899",
   "metadata": {},
   "outputs": [
    {
     "data": {
      "text/plain": [
       "<matplotlib.legend.Legend at 0x1a22cb8f700>"
      ]
     },
     "execution_count": 43,
     "metadata": {},
     "output_type": "execute_result"
    },
    {
     "data": {
      "image/png": "[encoded data removed]",
      "text/plain": [
       "<Figure size 640x480 with 1 Axes>"
      ]
     },
     "metadata": {},
     "output_type": "display_data"
    }
   ],
   "source": [
    "plt.plot(gold, 'gold')\n",
    "plt.plot(silver, 'silver')\n",
    "plt.title(\"Gold and Silver Prices (USD)\", fontdict={'fontname': 'Comic Sans Ms'})\n",
    "plt.xlabel('Years')\n",
    "plt.ylabel('Price (per ounce)')\n",
    "plt.legend([\"Gold Prices\", \"Silver Prices\"])\n",
    "\n"
   ]
  },
  {
   "cell_type": "markdown",
   "id": "12578f61",
   "metadata": {},
   "source": [
    "# Create a list from data and exploring it\n"
   ]
  },
  {
   "cell_type": "code",
   "execution_count": 33,
   "id": "f9bea3bf",
   "metadata": {},
   "outputs": [
    {
     "data": {
      "text/html": [
       "<div>\n",
       "<style scoped>\n",
       "    .dataframe tbody tr th:only-of-type {\n",
       "        vertical-align: middle;\n",
       "    }\n",
       "\n",
       "    .dataframe tbody tr th {\n",
       "        vertical-align: top;\n",
       "    }\n",
       "\n",
       "    .dataframe thead th {\n",
       "        text-align: right;\n",
       "    }\n",
       "</style>\n",
       "<table border=\"1\" class=\"dataframe\">\n",
       "  <thead>\n",
       "    <tr style=\"text-align: right;\">\n",
       "      <th></th>\n",
       "      <th>0</th>\n",
       "    </tr>\n",
       "  </thead>\n",
       "  <tbody>\n",
       "    <tr>\n",
       "      <th>0</th>\n",
       "      <td>559.50</td>\n",
       "    </tr>\n",
       "    <tr>\n",
       "      <th>1</th>\n",
       "      <td>634.00</td>\n",
       "    </tr>\n",
       "    <tr>\n",
       "      <th>2</th>\n",
       "      <td>588.00</td>\n",
       "    </tr>\n",
       "    <tr>\n",
       "      <th>3</th>\n",
       "      <td>633.50</td>\n",
       "    </tr>\n",
       "    <tr>\n",
       "      <th>4</th>\n",
       "      <td>610.00</td>\n",
       "    </tr>\n",
       "    <tr>\n",
       "      <th>5</th>\n",
       "      <td>607.20</td>\n",
       "    </tr>\n",
       "    <tr>\n",
       "      <th>6</th>\n",
       "      <td>602.85</td>\n",
       "    </tr>\n",
       "    <tr>\n",
       "      <th>7</th>\n",
       "      <td>623.00</td>\n",
       "    </tr>\n",
       "    <tr>\n",
       "      <th>8</th>\n",
       "      <td>660.00</td>\n",
       "    </tr>\n",
       "    <tr>\n",
       "      <th>9</th>\n",
       "      <td>684.00</td>\n",
       "    </tr>\n",
       "    <tr>\n",
       "      <th>10</th>\n",
       "      <td>760.00</td>\n",
       "    </tr>\n",
       "    <tr>\n",
       "      <th>11</th>\n",
       "      <td>750.00</td>\n",
       "    </tr>\n",
       "    <tr>\n",
       "      <th>12</th>\n",
       "      <td>835.00</td>\n",
       "    </tr>\n",
       "    <tr>\n",
       "      <th>13</th>\n",
       "      <td>850.00</td>\n",
       "    </tr>\n",
       "    <tr>\n",
       "      <th>14</th>\n",
       "      <td>737.50</td>\n",
       "    </tr>\n",
       "    <tr>\n",
       "      <th>15</th>\n",
       "      <td>695.00</td>\n",
       "    </tr>\n",
       "    <tr>\n",
       "      <th>16</th>\n",
       "      <td>717.00</td>\n",
       "    </tr>\n",
       "    <tr>\n",
       "      <th>17</th>\n",
       "      <td>668.00</td>\n",
       "    </tr>\n",
       "    <tr>\n",
       "      <th>18</th>\n",
       "      <td>624.00</td>\n",
       "    </tr>\n",
       "    <tr>\n",
       "      <th>19</th>\n",
       "      <td>674.25</td>\n",
       "    </tr>\n",
       "    <tr>\n",
       "      <th>20</th>\n",
       "      <td>691.00</td>\n",
       "    </tr>\n",
       "    <tr>\n",
       "      <th>21</th>\n",
       "      <td>653.00</td>\n",
       "    </tr>\n",
       "  </tbody>\n",
       "</table>\n",
       "</div>"
      ],
      "text/plain": [
       "         0\n",
       "0   559.50\n",
       "1   634.00\n",
       "2   588.00\n",
       "3   633.50\n",
       "4   610.00\n",
       "5   607.20\n",
       "6   602.85\n",
       "7   623.00\n",
       "8   660.00\n",
       "9   684.00\n",
       "10  760.00\n",
       "11  750.00\n",
       "12  835.00\n",
       "13  850.00\n",
       "14  737.50\n",
       "15  695.00\n",
       "16  717.00\n",
       "17  668.00\n",
       "18  624.00\n",
       "19  674.25\n",
       "20  691.00\n",
       "21  653.00"
      ]
     },
     "execution_count": 33,
     "metadata": {},
     "output_type": "execute_result"
    }
   ],
   "source": [
    "# List from data of my January in 1980\n",
    "lst = [559.50, 634.00, 588.00, 633.50, 610.00, 607.20, 602.85, 623.00, 660.00, 684.00, 760.00, 750.00, 835.00, 850.00, 737.50, 695.00, 717.00, 668.00, 624.00, 674.25, 691.00, 653.00]\n",
    "gold80 = pd.DataFrame(lst)\n",
    "gold80"
   ]
  },
  {
   "cell_type": "code",
   "execution_count": 34,
   "id": "c7d2e087",
   "metadata": {},
   "outputs": [
    {
     "data": {
      "text/plain": [
       "0    675.309091\n",
       "dtype: float64"
      ]
     },
     "execution_count": 34,
     "metadata": {},
     "output_type": "execute_result"
    }
   ],
   "source": [
    "# Finding the mean of January prices\n",
    "gold80.mean()"
   ]
  },
  {
   "cell_type": "code",
   "execution_count": 35,
   "id": "0c939bae",
   "metadata": {},
   "outputs": [
    {
     "data": {
      "text/plain": [
       "0    664.0\n",
       "dtype: float64"
      ]
     },
     "execution_count": 35,
     "metadata": {},
     "output_type": "execute_result"
    }
   ],
   "source": [
    "# Finding the median of January prices\n",
    "gold80.median()"
   ]
  },
  {
   "cell_type": "code",
   "execution_count": 36,
   "id": "e6ad2b47",
   "metadata": {},
   "outputs": [
    {
     "data": {
      "text/plain": [
       "0    850.0\n",
       "dtype: float64"
      ]
     },
     "execution_count": 36,
     "metadata": {},
     "output_type": "execute_result"
    }
   ],
   "source": [
    "# Finding the maximum price of January prices\n",
    "gold80.max()"
   ]
  },
  {
   "cell_type": "code",
   "execution_count": 37,
   "id": "3c80a249",
   "metadata": {},
   "outputs": [
    {
     "data": {
      "text/plain": [
       "0    559.5\n",
       "dtype: float64"
      ]
     },
     "execution_count": 37,
     "metadata": {},
     "output_type": "execute_result"
    }
   ],
   "source": [
    "# Finding the minimum of January prices\n",
    "gold80.min()"
   ]
  },
  {
   "cell_type": "code",
   "execution_count": 38,
   "id": "3f26593f",
   "metadata": {},
   "outputs": [
    {
     "data": {
      "text/plain": [
       "22"
      ]
     },
     "execution_count": 38,
     "metadata": {},
     "output_type": "execute_result"
    }
   ],
   "source": [
    "# Finding the length of my list\n",
    "len(gold80)"
   ]
  },
  {
   "cell_type": "code",
   "execution_count": 39,
   "id": "712b9a86",
   "metadata": {},
   "outputs": [],
   "source": [
    "# Renaming the column to price\n",
    "gold80.columns = ['price']"
   ]
  },
  {
   "cell_type": "code",
   "execution_count": 40,
   "id": "ab1490b6",
   "metadata": {
    "scrolled": true
   },
   "outputs": [
    {
     "data": {
      "text/html": [
       "<div>\n",
       "<style scoped>\n",
       "    .dataframe tbody tr th:only-of-type {\n",
       "        vertical-align: middle;\n",
       "    }\n",
       "\n",
       "    .dataframe tbody tr th {\n",
       "        vertical-align: top;\n",
       "    }\n",
       "\n",
       "    .dataframe thead th {\n",
       "        text-align: right;\n",
       "    }\n",
       "</style>\n",
       "<table border=\"1\" class=\"dataframe\">\n",
       "  <thead>\n",
       "    <tr style=\"text-align: right;\">\n",
       "      <th></th>\n",
       "      <th>price</th>\n",
       "    </tr>\n",
       "  </thead>\n",
       "  <tbody>\n",
       "    <tr>\n",
       "      <th>0</th>\n",
       "      <td>559.50</td>\n",
       "    </tr>\n",
       "    <tr>\n",
       "      <th>1</th>\n",
       "      <td>634.00</td>\n",
       "    </tr>\n",
       "    <tr>\n",
       "      <th>2</th>\n",
       "      <td>588.00</td>\n",
       "    </tr>\n",
       "    <tr>\n",
       "      <th>3</th>\n",
       "      <td>633.50</td>\n",
       "    </tr>\n",
       "    <tr>\n",
       "      <th>4</th>\n",
       "      <td>610.00</td>\n",
       "    </tr>\n",
       "    <tr>\n",
       "      <th>5</th>\n",
       "      <td>607.20</td>\n",
       "    </tr>\n",
       "    <tr>\n",
       "      <th>6</th>\n",
       "      <td>602.85</td>\n",
       "    </tr>\n",
       "    <tr>\n",
       "      <th>7</th>\n",
       "      <td>623.00</td>\n",
       "    </tr>\n",
       "    <tr>\n",
       "      <th>8</th>\n",
       "      <td>660.00</td>\n",
       "    </tr>\n",
       "    <tr>\n",
       "      <th>9</th>\n",
       "      <td>684.00</td>\n",
       "    </tr>\n",
       "    <tr>\n",
       "      <th>10</th>\n",
       "      <td>760.00</td>\n",
       "    </tr>\n",
       "    <tr>\n",
       "      <th>11</th>\n",
       "      <td>750.00</td>\n",
       "    </tr>\n",
       "    <tr>\n",
       "      <th>12</th>\n",
       "      <td>835.00</td>\n",
       "    </tr>\n",
       "    <tr>\n",
       "      <th>13</th>\n",
       "      <td>850.00</td>\n",
       "    </tr>\n",
       "    <tr>\n",
       "      <th>14</th>\n",
       "      <td>737.50</td>\n",
       "    </tr>\n",
       "    <tr>\n",
       "      <th>15</th>\n",
       "      <td>695.00</td>\n",
       "    </tr>\n",
       "    <tr>\n",
       "      <th>16</th>\n",
       "      <td>717.00</td>\n",
       "    </tr>\n",
       "    <tr>\n",
       "      <th>17</th>\n",
       "      <td>668.00</td>\n",
       "    </tr>\n",
       "    <tr>\n",
       "      <th>18</th>\n",
       "      <td>624.00</td>\n",
       "    </tr>\n",
       "    <tr>\n",
       "      <th>19</th>\n",
       "      <td>674.25</td>\n",
       "    </tr>\n",
       "    <tr>\n",
       "      <th>20</th>\n",
       "      <td>691.00</td>\n",
       "    </tr>\n",
       "    <tr>\n",
       "      <th>21</th>\n",
       "      <td>653.00</td>\n",
       "    </tr>\n",
       "  </tbody>\n",
       "</table>\n",
       "</div>"
      ],
      "text/plain": [
       "     price\n",
       "0   559.50\n",
       "1   634.00\n",
       "2   588.00\n",
       "3   633.50\n",
       "4   610.00\n",
       "5   607.20\n",
       "6   602.85\n",
       "7   623.00\n",
       "8   660.00\n",
       "9   684.00\n",
       "10  760.00\n",
       "11  750.00\n",
       "12  835.00\n",
       "13  850.00\n",
       "14  737.50\n",
       "15  695.00\n",
       "16  717.00\n",
       "17  668.00\n",
       "18  624.00\n",
       "19  674.25\n",
       "20  691.00\n",
       "21  653.00"
      ]
     },
     "execution_count": 40,
     "metadata": {},
     "output_type": "execute_result"
    }
   ],
   "source": [
    "# Showing the renamed column\n",
    "gold80"
   ]
  },
  {
   "cell_type": "markdown",
   "id": "0e202ba5",
   "metadata": {},
   "source": [
    "# Plotting the data from January 1980"
   ]
  },
  {
   "cell_type": "code",
   "execution_count": 44,
   "id": "17946187",
   "metadata": {},
   "outputs": [
    {
     "data": {
      "text/plain": [
       "<matplotlib.legend.Legend at 0x1a22cc1fc40>"
      ]
     },
     "execution_count": 44,
     "metadata": {},
     "output_type": "execute_result"
    },
    {
     "data": {
      "image/png": "[encoded data removed]",
      "text/plain": [
       "<Figure size 640x480 with 1 Axes>"
      ]
     },
     "metadata": {},
     "output_type": "display_data"
    }
   ],
   "source": [
    "plt.plot(gold80, 'gold')\n",
    "plt.title(\"Gold Prices for January of 1980 (USD)\", fontdict={'fontname': 'Comic Sans Ms'})\n",
    "plt.xlabel('Date')\n",
    "plt.ylabel('Price (per ounce)')\n",
    "plt.legend([\"Gold Prices\", \"Silver Prices\"])"
   ]
  }
 ],
 "metadata": {
  "kernelspec": {
   "display_name": "Python 3 (ipykernel)",
   "language": "python",
   "name": "python3"
  },
  "language_info": {
   "codemirror_mode": {
    "name": "ipython",
    "version": 3
   },
   "file_extension": ".py",
   "mimetype": "text/x-python",
   "name": "python",
   "nbconvert_exporter": "python",
   "pygments_lexer": "ipython3",
   "version": "3.9.13"
  }
 },
 "nbformat": 4,
 "nbformat_minor": 5
}
