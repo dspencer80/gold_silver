{
 "cells": [
  {
   "cell_type": "markdown",
   "id": "094750fe",
   "metadata": {},
   "source": [
    "# Install needed packages\n"
   ]
  },
  {
   "cell_type": "code",
   "execution_count": 2,
   "id": "81593b51",
   "metadata": {},
   "outputs": [],
   "source": [
    "import pandas as pd\n",
    "import numpy as np\n",
    "import matplotlib.pyplot as plt\n",
    "import seaborn as sns"
   ]
  },
  {
   "cell_type": "markdown",
   "id": "0ac1972a",
   "metadata": {},
   "source": [
    "# Import CSV Files"
   ]
  },
  {
   "cell_type": "code",
   "execution_count": 7,
   "id": "f8aad20d",
   "metadata": {},
   "outputs": [],
   "source": [
    "df = pd.read_csv('gold_price.csv')\n",
    "df2 = pd.read_csv('silver_price.csv')"
   ]
  },
  {
   "cell_type": "code",
   "execution_count": 8,
   "id": "cfb79d8d",
   "metadata": {},
   "outputs": [
    {
     "data": {
      "text/plain": [
       "(             date    price\n",
       " 0      1968-01-02      NaN\n",
       " 1      1968-01-03      NaN\n",
       " 2      1968-01-04      NaN\n",
       " 3      1968-01-05      NaN\n",
       " 4      1968-01-08      NaN\n",
       " ...           ...      ...\n",
       " 13456  2021-03-30  1683.95\n",
       " 13457  2021-03-31  1691.05\n",
       " 13458  2021-04-01  1726.05\n",
       " 13459  2021-04-06  1744.65\n",
       " 13460  2021-04-07  1738.05\n",
       " \n",
       " [13461 rows x 2 columns],\n",
       "              date   price\n",
       " 0      1968-01-02   2.173\n",
       " 1      1968-01-03   2.225\n",
       " 2      1968-01-04   2.171\n",
       " 3      1968-01-05   2.157\n",
       " 4      1968-01-08   2.163\n",
       " ...           ...     ...\n",
       " 13470  2021-03-30  24.340\n",
       " 13471  2021-03-31  24.000\n",
       " 13472  2021-04-01  24.315\n",
       " 13473  2021-04-06  25.040\n",
       " 13474  2021-04-07  24.985\n",
       " \n",
       " [13475 rows x 2 columns])"
      ]
     },
     "execution_count": 8,
     "metadata": {},
     "output_type": "execute_result"
    }
   ],
   "source": [
    "df, df2"
   ]
  },
  {
   "cell_type": "code",
   "execution_count": 53,
   "id": "3e0ad03d",
   "metadata": {},
   "outputs": [
    {
     "name": "stdout",
     "output_type": "stream",
     "text": [
      "<class 'pandas.core.frame.DataFrame'>\n",
      "RangeIndex: 13461 entries, 0 to 13460\n",
      "Data columns (total 2 columns):\n",
      " #   Column  Non-Null Count  Dtype  \n",
      "---  ------  --------------  -----  \n",
      " 0   date    13461 non-null  object \n",
      " 1   price   13320 non-null  float64\n",
      "dtypes: float64(1), object(1)\n",
      "memory usage: 210.5+ KB\n"
     ]
    }
   ],
   "source": [
    "df.info()"
   ]
  },
  {
   "cell_type": "code",
   "execution_count": 55,
   "id": "547fad0b",
   "metadata": {},
   "outputs": [
    {
     "name": "stdout",
     "output_type": "stream",
     "text": [
      "<class 'pandas.core.frame.DataFrame'>\n",
      "RangeIndex: 13461 entries, 0 to 13460\n",
      "Data columns (total 2 columns):\n",
      " #   Column  Non-Null Count  Dtype         \n",
      "---  ------  --------------  -----         \n",
      " 0   date    13461 non-null  datetime64[ns]\n",
      " 1   price   13320 non-null  float64       \n",
      "dtypes: datetime64[ns](1), float64(1)\n",
      "memory usage: 210.5 KB\n"
     ]
    }
   ],
   "source": [
    "df.date = pd.to_datetime(df.date)\n",
    "df.info()"
   ]
  },
  {
   "cell_type": "code",
   "execution_count": 56,
   "id": "f063b046",
   "metadata": {},
   "outputs": [
    {
     "name": "stdout",
     "output_type": "stream",
     "text": [
      "<class 'pandas.core.frame.DataFrame'>\n",
      "RangeIndex: 13475 entries, 0 to 13474\n",
      "Data columns (total 2 columns):\n",
      " #   Column  Non-Null Count  Dtype  \n",
      "---  ------  --------------  -----  \n",
      " 0   date    13475 non-null  object \n",
      " 1   price   13454 non-null  float64\n",
      "dtypes: float64(1), object(1)\n",
      "memory usage: 210.7+ KB\n"
     ]
    }
   ],
   "source": [
    "df2.info()"
   ]
  },
  {
   "cell_type": "code",
   "execution_count": 57,
   "id": "bde4f281",
   "metadata": {},
   "outputs": [
    {
     "name": "stdout",
     "output_type": "stream",
     "text": [
      "<class 'pandas.core.frame.DataFrame'>\n",
      "RangeIndex: 13475 entries, 0 to 13474\n",
      "Data columns (total 2 columns):\n",
      " #   Column  Non-Null Count  Dtype         \n",
      "---  ------  --------------  -----         \n",
      " 0   date    13475 non-null  datetime64[ns]\n",
      " 1   price   13454 non-null  float64       \n",
      "dtypes: datetime64[ns](1), float64(1)\n",
      "memory usage: 210.7 KB\n"
     ]
    }
   ],
   "source": [
    "df2.date = pd.to_datetime(df2.date)\n",
    "df2.info()"
   ]
  },
  {
   "cell_type": "code",
   "execution_count": 58,
   "id": "b43fe3b4",
   "metadata": {},
   "outputs": [],
   "source": [
    "df = df.set_index('date')\n",
    "df2 = df2.set_index('date')"
   ]
  },
  {
   "cell_type": "code",
   "execution_count": 59,
   "id": "6f6b1b49",
   "metadata": {},
   "outputs": [
    {
     "data": {
      "text/plain": [
       "(              price\n",
       " date               \n",
       " 1968-01-02      NaN\n",
       " 1968-01-03      NaN\n",
       " 1968-01-04      NaN\n",
       " 1968-01-05      NaN\n",
       " 1968-01-08      NaN\n",
       " ...             ...\n",
       " 2021-03-30  1683.95\n",
       " 2021-03-31  1691.05\n",
       " 2021-04-01  1726.05\n",
       " 2021-04-06  1744.65\n",
       " 2021-04-07  1738.05\n",
       " \n",
       " [13461 rows x 1 columns],\n",
       "              price\n",
       " date              \n",
       " 1968-01-02   2.173\n",
       " 1968-01-03   2.225\n",
       " 1968-01-04   2.171\n",
       " 1968-01-05   2.157\n",
       " 1968-01-08   2.163\n",
       " ...            ...\n",
       " 2021-03-30  24.340\n",
       " 2021-03-31  24.000\n",
       " 2021-04-01  24.315\n",
       " 2021-04-06  25.040\n",
       " 2021-04-07  24.985\n",
       " \n",
       " [13475 rows x 1 columns])"
      ]
     },
     "execution_count": 59,
     "metadata": {},
     "output_type": "execute_result"
    }
   ],
   "source": [
    "df, df2"
   ]
  },
  {
   "cell_type": "code",
   "execution_count": 62,
   "id": "a0532ba4",
   "metadata": {},
   "outputs": [],
   "source": [
    "gold = df.loc['2000-01-04':'2021-04-07']"
   ]
  },
  {
   "cell_type": "code",
   "execution_count": 214,
   "id": "b8ca9a4e",
   "metadata": {},
   "outputs": [],
   "source": [
    "#gold = df[df.date == '2000']"
   ]
  },
  {
   "cell_type": "code",
   "execution_count": 218,
   "id": "0e4ed9d3",
   "metadata": {},
   "outputs": [],
   "source": [
    "#gold = df.loc[df['date'] == '2000-01-04']"
   ]
  },
  {
   "cell_type": "code",
   "execution_count": 63,
   "id": "1be51dce",
   "metadata": {},
   "outputs": [
    {
     "data": {
      "text/html": [
       "<div>\n",
       "<style scoped>\n",
       "    .dataframe tbody tr th:only-of-type {\n",
       "        vertical-align: middle;\n",
       "    }\n",
       "\n",
       "    .dataframe tbody tr th {\n",
       "        vertical-align: top;\n",
       "    }\n",
       "\n",
       "    .dataframe thead th {\n",
       "        text-align: right;\n",
       "    }\n",
       "</style>\n",
       "<table border=\"1\" class=\"dataframe\">\n",
       "  <thead>\n",
       "    <tr style=\"text-align: right;\">\n",
       "      <th></th>\n",
       "      <th>price</th>\n",
       "    </tr>\n",
       "    <tr>\n",
       "      <th>date</th>\n",
       "      <th></th>\n",
       "    </tr>\n",
       "  </thead>\n",
       "  <tbody>\n",
       "    <tr>\n",
       "      <th>2000-01-04</th>\n",
       "      <td>281.50</td>\n",
       "    </tr>\n",
       "    <tr>\n",
       "      <th>2000-01-05</th>\n",
       "      <td>280.45</td>\n",
       "    </tr>\n",
       "    <tr>\n",
       "      <th>2000-01-06</th>\n",
       "      <td>279.40</td>\n",
       "    </tr>\n",
       "    <tr>\n",
       "      <th>2000-01-07</th>\n",
       "      <td>282.10</td>\n",
       "    </tr>\n",
       "    <tr>\n",
       "      <th>2000-01-10</th>\n",
       "      <td>281.60</td>\n",
       "    </tr>\n",
       "    <tr>\n",
       "      <th>...</th>\n",
       "      <td>...</td>\n",
       "    </tr>\n",
       "    <tr>\n",
       "      <th>2021-03-30</th>\n",
       "      <td>1683.95</td>\n",
       "    </tr>\n",
       "    <tr>\n",
       "      <th>2021-03-31</th>\n",
       "      <td>1691.05</td>\n",
       "    </tr>\n",
       "    <tr>\n",
       "      <th>2021-04-01</th>\n",
       "      <td>1726.05</td>\n",
       "    </tr>\n",
       "    <tr>\n",
       "      <th>2021-04-06</th>\n",
       "      <td>1744.65</td>\n",
       "    </tr>\n",
       "    <tr>\n",
       "      <th>2021-04-07</th>\n",
       "      <td>1738.05</td>\n",
       "    </tr>\n",
       "  </tbody>\n",
       "</table>\n",
       "<p>5360 rows × 1 columns</p>\n",
       "</div>"
      ],
      "text/plain": [
       "              price\n",
       "date               \n",
       "2000-01-04   281.50\n",
       "2000-01-05   280.45\n",
       "2000-01-06   279.40\n",
       "2000-01-07   282.10\n",
       "2000-01-10   281.60\n",
       "...             ...\n",
       "2021-03-30  1683.95\n",
       "2021-03-31  1691.05\n",
       "2021-04-01  1726.05\n",
       "2021-04-06  1744.65\n",
       "2021-04-07  1738.05\n",
       "\n",
       "[5360 rows x 1 columns]"
      ]
     },
     "execution_count": 63,
     "metadata": {},
     "output_type": "execute_result"
    }
   ],
   "source": [
    "gold"
   ]
  },
  {
   "cell_type": "code",
   "execution_count": 76,
   "id": "113985bc",
   "metadata": {},
   "outputs": [],
   "source": [
    "silver = df2.loc['2000-01-04':'2021-04-07']"
   ]
  },
  {
   "cell_type": "code",
   "execution_count": 77,
   "id": "cf877326",
   "metadata": {},
   "outputs": [
    {
     "data": {
      "text/html": [
       "<div>\n",
       "<style scoped>\n",
       "    .dataframe tbody tr th:only-of-type {\n",
       "        vertical-align: middle;\n",
       "    }\n",
       "\n",
       "    .dataframe tbody tr th {\n",
       "        vertical-align: top;\n",
       "    }\n",
       "\n",
       "    .dataframe thead th {\n",
       "        text-align: right;\n",
       "    }\n",
       "</style>\n",
       "<table border=\"1\" class=\"dataframe\">\n",
       "  <thead>\n",
       "    <tr style=\"text-align: right;\">\n",
       "      <th></th>\n",
       "      <th>price</th>\n",
       "    </tr>\n",
       "    <tr>\n",
       "      <th>date</th>\n",
       "      <th></th>\n",
       "    </tr>\n",
       "  </thead>\n",
       "  <tbody>\n",
       "    <tr>\n",
       "      <th>2000-01-04</th>\n",
       "      <td>5.303</td>\n",
       "    </tr>\n",
       "    <tr>\n",
       "      <th>2000-01-05</th>\n",
       "      <td>5.285</td>\n",
       "    </tr>\n",
       "    <tr>\n",
       "      <th>2000-01-06</th>\n",
       "      <td>5.140</td>\n",
       "    </tr>\n",
       "    <tr>\n",
       "      <th>2000-01-07</th>\n",
       "      <td>5.135</td>\n",
       "    </tr>\n",
       "    <tr>\n",
       "      <th>2000-01-10</th>\n",
       "      <td>5.145</td>\n",
       "    </tr>\n",
       "    <tr>\n",
       "      <th>...</th>\n",
       "      <td>...</td>\n",
       "    </tr>\n",
       "    <tr>\n",
       "      <th>2021-03-30</th>\n",
       "      <td>24.340</td>\n",
       "    </tr>\n",
       "    <tr>\n",
       "      <th>2021-03-31</th>\n",
       "      <td>24.000</td>\n",
       "    </tr>\n",
       "    <tr>\n",
       "      <th>2021-04-01</th>\n",
       "      <td>24.315</td>\n",
       "    </tr>\n",
       "    <tr>\n",
       "      <th>2021-04-06</th>\n",
       "      <td>25.040</td>\n",
       "    </tr>\n",
       "    <tr>\n",
       "      <th>2021-04-07</th>\n",
       "      <td>24.985</td>\n",
       "    </tr>\n",
       "  </tbody>\n",
       "</table>\n",
       "<p>5374 rows × 1 columns</p>\n",
       "</div>"
      ],
      "text/plain": [
       "             price\n",
       "date              \n",
       "2000-01-04   5.303\n",
       "2000-01-05   5.285\n",
       "2000-01-06   5.140\n",
       "2000-01-07   5.135\n",
       "2000-01-10   5.145\n",
       "...            ...\n",
       "2021-03-30  24.340\n",
       "2021-03-31  24.000\n",
       "2021-04-01  24.315\n",
       "2021-04-06  25.040\n",
       "2021-04-07  24.985\n",
       "\n",
       "[5374 rows x 1 columns]"
      ]
     },
     "execution_count": 77,
     "metadata": {},
     "output_type": "execute_result"
    }
   ],
   "source": [
    "silver"
   ]
  },
  {
   "cell_type": "code",
   "execution_count": 78,
   "id": "40a19eaf",
   "metadata": {},
   "outputs": [
    {
     "data": {
      "text/plain": [
       "[<matplotlib.lines.Line2D at 0x18752e98280>]"
      ]
     },
     "execution_count": 78,
     "metadata": {},
     "output_type": "execute_result"
    },
    {
     "data": {
      "image/png": "[encoded data removed]",
      "text/plain": [
       "<Figure size 640x480 with 1 Axes>"
      ]
     },
     "metadata": {},
     "output_type": "display_data"
    }
   ],
   "source": [
    "plt.plot(df)\n",
    "plt.plot(df2)"
   ]
  },
  {
   "cell_type": "code",
   "execution_count": 79,
   "id": "2896b00d",
   "metadata": {},
   "outputs": [
    {
     "data": {
      "text/plain": [
       "[<matplotlib.lines.Line2D at 0x18752eff040>]"
      ]
     },
     "execution_count": 79,
     "metadata": {},
     "output_type": "execute_result"
    },
    {
     "data": {
      "image/png": "[encoded data removed]",
      "text/plain": [
       "<Figure size 640x480 with 1 Axes>"
      ]
     },
     "metadata": {},
     "output_type": "display_data"
    }
   ],
   "source": [
    "plt.plot(gold, 'g')\n",
    "plt.plot(silver, 'r')"
   ]
  },
  {
   "cell_type": "code",
   "execution_count": null,
   "id": "b9a05e61",
   "metadata": {},
   "outputs": [],
   "source": []
  }
 ],
 "metadata": {
  "kernelspec": {
   "display_name": "Python 3 (ipykernel)",
   "language": "python",
   "name": "python3"
  },
  "language_info": {
   "codemirror_mode": {
    "name": "ipython",
    "version": 3
   },
   "file_extension": ".py",
   "mimetype": "text/x-python",
   "name": "python",
   "nbconvert_exporter": "python",
   "pygments_lexer": "ipython3",
   "version": "3.9.13"
  }
 },
 "nbformat": 4,
 "nbformat_minor": 5
}
